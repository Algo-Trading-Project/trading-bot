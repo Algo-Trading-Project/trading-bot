{
 "cells": [
  {
   "cell_type": "code",
   "execution_count": 1,
   "metadata": {
    "ExecuteTime": {
     "end_time": "2025-05-24T16:50:36.095198Z",
     "start_time": "2025-05-24T16:50:35.844673Z"
    }
   },
   "outputs": [],
   "source": [
    "# Feature engineering and model selection\n",
    "from sklearn.pipeline import Pipeline\n",
    "\n",
    "# Suppress all warnings\n",
    "import warnings\n",
    "warnings.filterwarnings('ignore')\n",
    "\n",
    "# Analytical helper functions to declutter the notebook\n",
    "from analysis.ml.custom_transformers import *\n",
    "from analysis.ml.data import get_ml_features, get_ml_dataset"
   ]
  },
  {
   "cell_type": "code",
   "execution_count": 2,
   "metadata": {},
   "outputs": [
    {
     "ename": "CatalogException",
     "evalue": "Catalog Error: Table with name ohlcv_1m does not exist!\nDid you mean \"temp.pg_catalog.pg_am\"?",
     "output_type": "error",
     "traceback": [
      "\u001b[0;31m---------------------------------------------------------------------------\u001b[0m",
      "\u001b[0;31mCatalogException\u001b[0m                          Traceback (most recent call last)",
      "Cell \u001b[0;32mIn[2], line 2\u001b[0m\n\u001b[1;32m      1\u001b[0m \u001b[38;5;66;03m# Construct base datasets for model training\u001b[39;00m\n\u001b[0;32m----> 2\u001b[0m \u001b[43mget_ml_dataset\u001b[49m\u001b[43m(\u001b[49m\u001b[43m)\u001b[49m\n",
      "File \u001b[0;32m~/Desktop/Trading-Bot/.venv/src/trading-bot/analysis/ml/data.py:257\u001b[0m, in \u001b[0;36mget_ml_dataset\u001b[0;34m(use_dollar_bars, resample_period)\u001b[0m\n\u001b[1;32m    254\u001b[0m \u001b[38;5;28;01mdef\u001b[39;00m \u001b[38;5;21mget_ml_dataset\u001b[39m(use_dollar_bars \u001b[38;5;241m=\u001b[39m \u001b[38;5;28;01mFalse\u001b[39;00m, resample_period \u001b[38;5;241m=\u001b[39m \u001b[38;5;124m'\u001b[39m\u001b[38;5;124m1d\u001b[39m\u001b[38;5;124m'\u001b[39m):\n\u001b[1;32m    255\u001b[0m     \u001b[38;5;66;03m# Construct the dataset for machine learning\u001b[39;00m\n\u001b[1;32m    256\u001b[0m     \u001b[38;5;28;01mif\u001b[39;00m \u001b[38;5;129;01mnot\u001b[39;00m os\u001b[38;5;241m.\u001b[39mpath\u001b[38;5;241m.\u001b[39mexists(\u001b[38;5;124m'\u001b[39m\u001b[38;5;124m/Users/louisspencer/Desktop/Trading-Bot/data/ml_dataset.csv.gz\u001b[39m\u001b[38;5;124m'\u001b[39m):\n\u001b[0;32m--> 257\u001b[0m         df \u001b[38;5;241m=\u001b[39m \u001b[43mconstruct_dataset_for_ml\u001b[49m\u001b[43m(\u001b[49m\u001b[43mresample_period\u001b[49m\u001b[43m \u001b[49m\u001b[38;5;241;43m=\u001b[39;49m\u001b[43m \u001b[49m\u001b[43mresample_period\u001b[49m\u001b[43m)\u001b[49m\n\u001b[1;32m    258\u001b[0m         df[\u001b[38;5;124m'\u001b[39m\u001b[38;5;124mtime_period_end\u001b[39m\u001b[38;5;124m'\u001b[39m] \u001b[38;5;241m=\u001b[39m pd\u001b[38;5;241m.\u001b[39mto_datetime(df[\u001b[38;5;124m'\u001b[39m\u001b[38;5;124mtime_period_end\u001b[39m\u001b[38;5;124m'\u001b[39m])\n\u001b[1;32m    260\u001b[0m         \u001b[38;5;28;01mif\u001b[39;00m use_dollar_bars:\n",
      "File \u001b[0;32m~/Desktop/Trading-Bot/.venv/src/trading-bot/analysis/ml/data.py:145\u001b[0m, in \u001b[0;36mconstruct_dataset_for_ml\u001b[0;34m(resample_period)\u001b[0m\n\u001b[1;32m    143\u001b[0m \u001b[38;5;28;01mdef\u001b[39;00m \u001b[38;5;21mconstruct_dataset_for_ml\u001b[39m(resample_period):\n\u001b[0;32m--> 145\u001b[0m \u001b[43m    \u001b[49m\u001b[38;5;28;43;01mwith\u001b[39;49;00m\u001b[43m \u001b[49m\u001b[43mduckdb\u001b[49m\u001b[38;5;241;43m.\u001b[39;49m\u001b[43mconnect\u001b[49m\u001b[43m(\u001b[49m\n\u001b[1;32m    146\u001b[0m \u001b[43m        \u001b[49m\u001b[43mdatabase\u001b[49m\u001b[43m \u001b[49m\u001b[38;5;241;43m=\u001b[39;49m\u001b[43m \u001b[49m\u001b[38;5;124;43m'\u001b[39;49m\u001b[38;5;124;43m/Users/louisspencer/Desktop/Trading-Bot-Data-Pipelines/data/database.db\u001b[39;49m\u001b[38;5;124;43m'\u001b[39;49m\u001b[43m,\u001b[49m\n\u001b[1;32m    147\u001b[0m \u001b[43m        \u001b[49m\u001b[43mread_only\u001b[49m\u001b[43m \u001b[49m\u001b[38;5;241;43m=\u001b[39;49m\u001b[43m \u001b[49m\u001b[38;5;28;43;01mFalse\u001b[39;49;00m\n\u001b[1;32m    148\u001b[0m \u001b[43m    \u001b[49m\u001b[43m)\u001b[49m\u001b[43m \u001b[49m\u001b[38;5;28;43;01mas\u001b[39;49;00m\u001b[43m \u001b[49m\u001b[43mconn\u001b[49m\u001b[43m:\u001b[49m\n\u001b[1;32m    149\u001b[0m \u001b[43m        \u001b[49m\n\u001b[1;32m    150\u001b[0m \u001b[43m        \u001b[49m\u001b[38;5;66;43;03m# Get all distinct assets in the database\u001b[39;49;00m\n\u001b[1;32m    151\u001b[0m \u001b[43m        \u001b[49m\u001b[43massets\u001b[49m\u001b[43m \u001b[49m\u001b[38;5;241;43m=\u001b[39;49m\u001b[43m \u001b[49m\u001b[43mconn\u001b[49m\u001b[38;5;241;43m.\u001b[39;49m\u001b[43msql\u001b[49m\u001b[43m(\u001b[49m\n\u001b[1;32m    152\u001b[0m \u001b[38;5;250;43m            \u001b[39;49m\u001b[38;5;124;43;03m\"\"\"\u001b[39;49;00m\n\u001b[1;32m    153\u001b[0m \u001b[38;5;124;43;03m            SELECT DISTINCT \u001b[39;49;00m\n\u001b[0;32m   (...)\u001b[0m\n\u001b[1;32m    158\u001b[0m \u001b[38;5;124;43;03m            ORDER BY asset_id_base\u001b[39;49;00m\n\u001b[1;32m    159\u001b[0m \u001b[38;5;124;43;03m        \"\"\"\u001b[39;49;00m\u001b[43m)\u001b[49m\u001b[38;5;241;43m.\u001b[39;49m\u001b[43mdf\u001b[49m\u001b[43m(\u001b[49m\u001b[43m)\u001b[49m\n\u001b[1;32m    161\u001b[0m \u001b[43m        \u001b[49m\u001b[38;5;66;43;03m# Create an empty DataFrame to store the final dataset\u001b[39;49;00m\n",
      "File \u001b[0;32m~/Desktop/Trading-Bot/.venv/src/trading-bot/analysis/ml/data.py:151\u001b[0m, in \u001b[0;36mconstruct_dataset_for_ml\u001b[0;34m(resample_period)\u001b[0m\n\u001b[1;32m    143\u001b[0m \u001b[38;5;28;01mdef\u001b[39;00m \u001b[38;5;21mconstruct_dataset_for_ml\u001b[39m(resample_period):\n\u001b[1;32m    145\u001b[0m     \u001b[38;5;28;01mwith\u001b[39;00m duckdb\u001b[38;5;241m.\u001b[39mconnect(\n\u001b[1;32m    146\u001b[0m         database \u001b[38;5;241m=\u001b[39m \u001b[38;5;124m'\u001b[39m\u001b[38;5;124m/Users/louisspencer/Desktop/Trading-Bot-Data-Pipelines/data/database.db\u001b[39m\u001b[38;5;124m'\u001b[39m,\n\u001b[1;32m    147\u001b[0m         read_only \u001b[38;5;241m=\u001b[39m \u001b[38;5;28;01mFalse\u001b[39;00m\n\u001b[1;32m    148\u001b[0m     ) \u001b[38;5;28;01mas\u001b[39;00m conn:\n\u001b[1;32m    149\u001b[0m         \n\u001b[1;32m    150\u001b[0m         \u001b[38;5;66;03m# Get all distinct assets in the database\u001b[39;00m\n\u001b[0;32m--> 151\u001b[0m         assets \u001b[38;5;241m=\u001b[39m \u001b[43mconn\u001b[49m\u001b[38;5;241;43m.\u001b[39;49m\u001b[43msql\u001b[49m\u001b[43m(\u001b[49m\n\u001b[1;32m    152\u001b[0m \u001b[38;5;250;43m            \u001b[39;49m\u001b[38;5;124;43;03m\"\"\"\u001b[39;49;00m\n\u001b[1;32m    153\u001b[0m \u001b[38;5;124;43;03m            SELECT DISTINCT \u001b[39;49;00m\n\u001b[1;32m    154\u001b[0m \u001b[38;5;124;43;03m                asset_id_base, \u001b[39;49;00m\n\u001b[1;32m    155\u001b[0m \u001b[38;5;124;43;03m                asset_id_quote, \u001b[39;49;00m\n\u001b[1;32m    156\u001b[0m \u001b[38;5;124;43;03m                exchange_id \u001b[39;49;00m\n\u001b[1;32m    157\u001b[0m \u001b[38;5;124;43;03m            FROM market_data.ohlcv_1m \u001b[39;49;00m\n\u001b[1;32m    158\u001b[0m \u001b[38;5;124;43;03m            ORDER BY asset_id_base\u001b[39;49;00m\n\u001b[1;32m    159\u001b[0m \u001b[38;5;124;43;03m        \"\"\"\u001b[39;49;00m\u001b[43m)\u001b[49m\u001b[38;5;241m.\u001b[39mdf()\n\u001b[1;32m    161\u001b[0m         \u001b[38;5;66;03m# Create an empty DataFrame to store the final dataset\u001b[39;00m\n\u001b[1;32m    162\u001b[0m         dataset \u001b[38;5;241m=\u001b[39m []\n",
      "\u001b[0;31mCatalogException\u001b[0m: Catalog Error: Table with name ohlcv_1m does not exist!\nDid you mean \"temp.pg_catalog.pg_am\"?"
     ]
    }
   ],
   "source": [
    "# Construct base datasets for model training\n",
    "get_ml_dataset()"
   ]
  },
  {
   "cell_type": "code",
   "execution_count": null,
   "metadata": {},
   "outputs": [],
   "source": [
    "# Pipeline for feature engineering and modeling\n",
    "feature_engineering_pipeline = Pipeline([\n",
    "\n",
    "    ('time_features', TimeFeatures()),\n",
    "\n",
    "    ('returns_features', ReturnsFeatures(\n",
    "        window_sizes = [1, 7, 30, 180],\n",
    "        lookback_windows = [7, 30, 180],\n",
    "    )),\n",
    "\n",
    "    ('risk_features', RiskFeatures(\n",
    "        windows = [1],\n",
    "        lookback_windows = [30, 180]\n",
    "    )),\n",
    "    #\n",
    "    ('trade_features', TradeFeatures(\n",
    "        windows = [1, 7, 30, 90, 180, 365],\n",
    "        lookback_windows = [7, 30, 180]\n",
    "    )),\n",
    "\n",
    "    ('fillna', FillNaTransformer()),\n",
    "\n",
    "    ('rolling_z_score', RollingZScoreScaler(window_sizes = [30, 180])),\n",
    "\n",
    "])"
   ]
  },
  {
   "cell_type": "code",
   "execution_count": 6,
   "metadata": {},
   "outputs": [
    {
     "ename": "NameError",
     "evalue": "name 'trading_bot' is not defined",
     "output_type": "error",
     "traceback": [
      "\u001b[0;31m---------------------------------------------------------------------------\u001b[0m",
      "\u001b[0;31mNameError\u001b[0m                                 Traceback (most recent call last)",
      "Cell \u001b[0;32mIn[6], line 1\u001b[0m\n\u001b[0;32m----> 1\u001b[0m \u001b[38;5;28mprint\u001b[39m(\u001b[43mtrading_bot\u001b[49m\u001b[38;5;241m.\u001b[39m\u001b[38;5;18m__file__\u001b[39m)\n",
      "\u001b[0;31mNameError\u001b[0m: name 'trading_bot' is not defined"
     ]
    }
   ],
   "source": [
    "print(trading_bot.__file__)\n"
   ]
  },
  {
   "cell_type": "code",
   "execution_count": null,
   "metadata": {
    "ExecuteTime": {
     "start_time": "2025-05-24T16:50:36.101285Z"
    },
    "jupyter": {
     "is_executing": true
    }
   },
   "outputs": [],
   "source": [
    "# Pipeline for feature engineering and modeling\n",
    "feature_engineering_pipeline = Pipeline([\n",
    "\n",
    "    ('time_features', TimeFeatures()),\n",
    "\n",
    "    ('returns_features', ReturnsFeatures(\n",
    "        window_sizes = [1, 7, 30, 180],\n",
    "        lookback_windows = [7, 30, 180],\n",
    "    )),\n",
    "\n",
    "    ('risk_features', RiskFeatures(\n",
    "        windows = [1],\n",
    "        lookback_windows = [30, 180]\n",
    "    )),\n",
    "    #\n",
    "    ('trade_features', TradeFeatures(\n",
    "        windows = [1, 7, 30, 90, 180, 365],\n",
    "        lookback_windows = [7, 30, 180]\n",
    "    )),\n",
    "\n",
    "    ('fillna', FillNaTransformer()),\n",
    "\n",
    "    ('rolling_z_score', RollingZScoreScaler(window_sizes = [30, 180])),\n",
    "\n",
    "])"
   ]
  },
  {
   "cell_type": "code",
   "execution_count": null,
   "metadata": {
    "ExecuteTime": {
     "end_time": "2025-05-24T16:50:15.519733Z",
     "start_time": "2025-05-24T16:48:25.834099Z"
    }
   },
   "outputs": [
    {
     "name": "stdout",
     "output_type": "stream",
     "text": [
      "Processing symbol_id: 1000SATS_FDUSD_BINANCE (1/467)\n",
      "Binder Error: table ml_features has 2437 columns but 5005 values were supplied\n",
      "Processing symbol_id: 1000SATS_USDC_BINANCE (2/467)\n",
      "Column set difference: set()\n",
      "\n",
      "Processing symbol_id: 1000SATS_USDT_BINANCE (3/467)\n",
      "Column set difference: set()\n",
      "\n",
      "Processing symbol_id: 1INCH_USDT_BINANCE (4/467)\n",
      "Column set difference: set()\n",
      "\n",
      "Processing symbol_id: 1MBABYDOGE_FDUSD_BINANCE (5/467)\n",
      "Column set difference: set()\n",
      "\n",
      "Processing symbol_id: 1MBABYDOGE_USDT_BINANCE (6/467)\n",
      "Column set difference: set()\n",
      "\n",
      "Processing symbol_id: AAVE_FDUSD_BINANCE (7/467)\n",
      "Column set difference: set()\n",
      "\n",
      "Processing symbol_id: AAVE_USDC_BINANCE (8/467)\n",
      "Column set difference: set()\n",
      "\n",
      "Processing symbol_id: AAVE_USDT_BINANCE (9/467)\n",
      "Column set difference: set()\n",
      "\n",
      "Processing symbol_id: ACA_USDT_BINANCE (10/467)\n",
      "Column set difference: set()\n",
      "\n"
     ]
    }
   ],
   "source": [
    "get_ml_features(feature_engineering_pipeline = feature_engineering_pipeline)"
   ]
  },
  {
   "cell_type": "code",
   "execution_count": null,
   "metadata": {},
   "outputs": [],
   "source": []
  }
 ],
 "metadata": {
  "kernelspec": {
   "display_name": "Python 3 (ipykernel)",
   "language": "python",
   "name": "python3"
  },
  "language_info": {
   "codemirror_mode": {
    "name": "ipython",
    "version": 3
   },
   "file_extension": ".py",
   "mimetype": "text/x-python",
   "name": "python",
   "nbconvert_exporter": "python",
   "pygments_lexer": "ipython3",
   "version": "3.11.9"
  }
 },
 "nbformat": 4,
 "nbformat_minor": 4
}
