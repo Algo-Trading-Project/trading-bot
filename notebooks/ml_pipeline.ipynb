{
 "cells": [
  {
   "cell_type": "code",
   "execution_count": null,
   "metadata": {
    "ExecuteTime": {
     "end_time": "2025-05-24T16:50:36.095198Z",
     "start_time": "2025-05-24T16:50:35.844673Z"
    }
   },
   "outputs": [],
   "source": [
    "# Feature engineering and model selection\n",
    "from sklearn.pipeline import Pipeline\n",
    "import matplotlib.pyplot as plt\n",
    "# Supress all warning\n",
    "import warnings\n",
    "import joblib\n",
    "warnings.filterwarnings('ignore')\n",
    "\n",
    "# Analytical helper functions to declutter the notebook\n",
    "from analysis.ml.custom_transformers import *\n",
    "from analysis.ml.data import get_ml_features, get_ml_dataset"
   ]
  },
  {
   "cell_type": "code",
   "execution_count": null,
   "metadata": {},
   "outputs": [],
   "source": [
    "# Construct base datasets for model training\n",
    "# get_ml_dataset(resample_period='1d')"
   ]
  },
  {
   "cell_type": "code",
   "execution_count": null,
   "metadata": {},
   "outputs": [],
   "source": [
    "# Pipeline for feature engineering and modeling\n",
    "feature_engineering_pipeline = Pipeline([\n",
    "    ('time_features', TimeFeatures()),\n",
    "\n",
    "    ('returns_features', ReturnsFeatures(\n",
    "        window_sizes = [1, 7],\n",
    "        lookback_windows = [30]\n",
    "    )),\n",
    "\n",
    "    ('risk_features', RiskFeatures(\n",
    "        windows = [1, 7],\n",
    "        lookback_windows = [30]\n",
    "    )),\n",
    "\n",
    "    ('trade_features', TradeFeatures(\n",
    "        windows = [1, 7],\n",
    "        lookback_windows = [30]\n",
    "    )),\n",
    "\n",
    "    ('spot_futures_features', SpotFuturesInteractionFeatures(\n",
    "        windows = [1, 7],\n",
    "        lookback_windows = [30]\n",
    "    )),\n",
    "\n",
    "    ('rolling_z_score', RollingZScoreScaler(window_sizes = [30]))\n",
    "])"
   ]
  },
  {
   "cell_type": "code",
   "execution_count": null,
   "metadata": {
    "ExecuteTime": {
     "end_time": "2025-05-24T16:50:15.519733Z",
     "start_time": "2025-05-24T16:48:25.834099Z"
    }
   },
   "outputs": [],
   "source": [
    "get_ml_features(feature_engineering_pipeline = feature_engineering_pipeline)    "
   ]
  },
  {
   "cell_type": "code",
   "execution_count": null,
   "metadata": {},
   "outputs": [],
   "source": []
  }
 ],
 "metadata": {
  "kernelspec": {
   "display_name": "Python 3 (ipykernel)",
   "language": "python",
   "name": "python3"
  },
  "language_info": {
   "codemirror_mode": {
    "name": "ipython",
    "version": 3
   },
   "file_extension": ".py",
   "mimetype": "text/x-python",
   "name": "python",
   "nbconvert_exporter": "python",
   "pygments_lexer": "ipython3",
   "version": "3.11.9"
  }
 },
 "nbformat": 4,
 "nbformat_minor": 4
}
